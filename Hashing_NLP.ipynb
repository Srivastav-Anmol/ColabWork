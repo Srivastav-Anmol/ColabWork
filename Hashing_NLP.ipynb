{
  "nbformat": 4,
  "nbformat_minor": 0,
  "metadata": {
    "colab": {
      "provenance": []
    },
    "kernelspec": {
      "name": "python3",
      "display_name": "Python 3"
    }
  },
  "cells": [
    {
      "cell_type": "code",
      "metadata": {
        "id": "jtOh1bvp5cOs"
      },
      "source": [
        "from sklearn.feature_extraction.text import HashingVectorizer\n",
        "# list of text documents\n",
        "text = [\"The quick brown Alok jumped over the lazy dog.\"]"
      ],
      "execution_count": null,
      "outputs": []
    },
    {
      "cell_type": "code",
      "metadata": {
        "id": "57bvCBJB5iYr"
      },
      "source": [
        "vectorizer = HashingVectorizer(n_features=20)\n",
        "vector1 = vectorizer.transform(text)"
      ],
      "execution_count": null,
      "outputs": []
    },
    {
      "cell_type": "code",
      "metadata": {
        "id": "dvGxvTMf5j5V",
        "colab": {
          "base_uri": "https://localhost:8080/"
        },
        "outputId": "1c2b7e89-2b86-4598-9142-d97d0134478a"
      },
      "source": [
        "print(vector1.shape)"
      ],
      "execution_count": null,
      "outputs": [
        {
          "output_type": "stream",
          "name": "stdout",
          "text": [
            "(1, 20)\n"
          ]
        }
      ]
    },
    {
      "cell_type": "code",
      "metadata": {
        "id": "VJ-qmEf-5nal",
        "colab": {
          "base_uri": "https://localhost:8080/"
        },
        "outputId": "099c5e77-2f17-4de8-f29f-cdf6e85be9b3"
      },
      "source": [
        "print(vector1.toarray())"
      ],
      "execution_count": null,
      "outputs": [
        {
          "output_type": "stream",
          "name": "stdout",
          "text": [
            "[[ 0.          0.          0.          0.          0.          0.37796447\n",
            "   0.         -0.37796447  0.          0.          0.          0.37796447\n",
            "   0.          0.          0.          0.          0.          0.\n",
            "  -0.75592895  0.        ]]\n"
          ]
        }
      ]
    },
    {
      "cell_type": "code",
      "metadata": {
        "id": "4nsyMDuU5n4V"
      },
      "source": [
        "text1 = [\"The quick brown fox jumped over the lazy dog.\"]"
      ],
      "execution_count": null,
      "outputs": []
    },
    {
      "cell_type": "code",
      "source": [
        "vector2 = vectorizer.transform(text1)"
      ],
      "metadata": {
        "id": "EK3fB6A-itSq"
      },
      "execution_count": null,
      "outputs": []
    },
    {
      "cell_type": "code",
      "source": [
        "print(vector2.shape)"
      ],
      "metadata": {
        "colab": {
          "base_uri": "https://localhost:8080/"
        },
        "id": "Q8htMt9jixXh",
        "outputId": "d4c566e1-aa20-4e07-e8c6-d4657442a45b"
      },
      "execution_count": null,
      "outputs": [
        {
          "output_type": "stream",
          "name": "stdout",
          "text": [
            "(1, 20)\n"
          ]
        }
      ]
    },
    {
      "cell_type": "code",
      "source": [
        "print(vector2.toarray())"
      ],
      "metadata": {
        "colab": {
          "base_uri": "https://localhost:8080/"
        },
        "id": "TgCNOgBsjEor",
        "outputId": "25c683cd-6644-43d5-811a-e0b3e4f7e15d"
      },
      "execution_count": null,
      "outputs": [
        {
          "output_type": "stream",
          "name": "stdout",
          "text": [
            "[[ 0.          0.          0.          0.          0.          0.33333333\n",
            "   0.         -0.33333333  0.33333333  0.          0.          0.33333333\n",
            "   0.          0.          0.         -0.33333333  0.          0.\n",
            "  -0.66666667  0.        ]]\n"
          ]
        }
      ]
    }
  ]
}