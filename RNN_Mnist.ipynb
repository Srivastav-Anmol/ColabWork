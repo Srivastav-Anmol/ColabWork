{
  "nbformat": 4,
  "nbformat_minor": 0,
  "metadata": {
    "colab": {
      "provenance": []
    },
    "kernelspec": {
      "name": "python3",
      "display_name": "Python 3"
    },
    "accelerator": "GPU"
  },
  "cells": [
    {
      "cell_type": "code",
      "metadata": {
        "id": "nHyXwOMBzXJ3"
      },
      "source": [
        "from __future__ import print_function\n",
        "\n",
        "import keras\n",
        "from keras.datasets import mnist\n",
        "from keras.models import Model\n",
        "from keras.layers import Input, Dense, TimeDistributed\n",
        "from keras.layers import LSTM\n"
      ],
      "execution_count": null,
      "outputs": []
    },
    {
      "cell_type": "code",
      "metadata": {
        "id": "PGbjv44gfhRT"
      },
      "source": [
        "# Training parameters.\n",
        "batch_size = 32\n",
        "num_classes = 10\n",
        "epochs = 8"
      ],
      "execution_count": null,
      "outputs": []
    },
    {
      "cell_type": "code",
      "metadata": {
        "id": "votjZrTzfkLw"
      },
      "source": [
        "# Embedding dimensions.\n",
        "row_hidden = 128\n",
        "col_hidden = 128"
      ],
      "execution_count": null,
      "outputs": []
    },
    {
      "cell_type": "code",
      "metadata": {
        "id": "Fnow15hjfmeI"
      },
      "source": [
        "\n",
        "# The data, split between train and test sets.\n",
        "(x_train, y_train), (x_test, y_test) = mnist.load_data()"
      ],
      "execution_count": null,
      "outputs": []
    },
    {
      "cell_type": "code",
      "metadata": {
        "id": "3z-9lgDZfnuw",
        "colab": {
          "base_uri": "https://localhost:8080/"
        },
        "outputId": "e0a1757a-da56-4116-baa3-ee0dc1fdf174"
      },
      "source": [
        "# Reshapes data to 4D for Hierarchical RNN.\n",
        "\n",
        "# HRNNs can learn across multiple levels of temporal hierarchy over a complex sequence. Usually, the first recurrent layer of an HRNN encodes a sentence\n",
        "# (e.g. of word vectors) into a sentence vector. The second recurrent layer then encodes a sequence of such vectors (encoded by the first layer) into a\n",
        "# document vector. This document vector is considered to preserve both the word-level and sentence-level structure of the context.\n",
        "\n",
        "x_train = x_train.reshape(x_train.shape[0], 28, 28, 1)\n",
        "x_test = x_test.reshape(x_test.shape[0], 28, 28, 1)\n",
        "x_train = x_train.astype('float32')\n",
        "x_test = x_test.astype('float32')\n",
        "x_train /= 255\n",
        "x_test /= 255\n",
        "print('x_train shape:', x_train.shape)\n",
        "print(x_train.shape[0], 'train samples')\n",
        "print(x_test.shape[0], 'test samples')"
      ],
      "execution_count": null,
      "outputs": [
        {
          "output_type": "stream",
          "name": "stdout",
          "text": [
            "x_train shape: (60000, 28, 28, 1)\n",
            "60000 train samples\n",
            "10000 test samples\n"
          ]
        }
      ]
    },
    {
      "cell_type": "code",
      "metadata": {
        "id": "qhWVV5pRzaki"
      },
      "source": [
        "\n",
        "# Converts class vectors to binary class matrices.\n",
        "y_train = keras.utils.to_categorical(y_train, num_classes)\n",
        "y_test = keras.utils.to_categorical(y_test, num_classes)\n",
        "\n",
        "row, col, pixel = x_train.shape[1:]\n",
        "\n",
        "# 4D input.\n",
        "x = Input(shape=(row, col, pixel))\n",
        "\n",
        "\n"
      ],
      "execution_count": null,
      "outputs": []
    },
    {
      "cell_type": "code",
      "metadata": {
        "id": "T-0vGVhvfqcZ"
      },
      "source": [
        "# Encodes a row of pixels using TimeDistributed Wrapper.\n",
        "# TimeDistributed. This wrapper applies a layer to every temporal slice of an input. The input should be at least 3D, and the dimension of index one will be\n",
        "# considered to be the temporal dimension. Consider a batch of 32 samples, where each sample is a sequence of 10 vectors of 16 dimensions\n",
        "\n",
        "encoded_rows = TimeDistributed(LSTM(row_hidden))(x)\n",
        "\n",
        "# Encodes columns of encoded rows.\n",
        "encoded_columns = LSTM(col_hidden)(encoded_rows)\n",
        "\n",
        "\n"
      ],
      "execution_count": null,
      "outputs": []
    },
    {
      "cell_type": "code",
      "metadata": {
        "id": "EUcRn6KcfsYZ"
      },
      "source": [
        "# Final predictions and model.\n",
        "prediction = Dense(num_classes, activation='softmax')(encoded_columns)\n",
        "model = Model(x, prediction)\n",
        "model.compile(loss='categorical_crossentropy',\n",
        "              optimizer='rmsprop',\n",
        "              metrics=['accuracy'])"
      ],
      "execution_count": null,
      "outputs": []
    },
    {
      "cell_type": "code",
      "metadata": {
        "id": "-0L5GgPLz5XE",
        "colab": {
          "base_uri": "https://localhost:8080/"
        },
        "outputId": "b9d222da-b9bf-4b7c-bdf5-63834eee0032"
      },
      "source": [
        "# Training.\n",
        "model.fit(x_train, y_train,\n",
        "          batch_size=batch_size,\n",
        "          epochs=epochs,\n",
        "          verbose=1,\n",
        "          validation_data=(x_test, y_test))\n",
        "\n"
      ],
      "execution_count": null,
      "outputs": [
        {
          "output_type": "stream",
          "name": "stdout",
          "text": [
            "Epoch 1/8\n",
            "1875/1875 [==============================] - 23s 11ms/step - loss: 0.4903 - accuracy: 0.8346 - val_loss: 0.1283 - val_accuracy: 0.9617\n",
            "Epoch 2/8\n",
            "1875/1875 [==============================] - 20s 11ms/step - loss: 0.1176 - accuracy: 0.9643 - val_loss: 0.0665 - val_accuracy: 0.9789\n",
            "Epoch 3/8\n",
            "1875/1875 [==============================] - 20s 11ms/step - loss: 0.0774 - accuracy: 0.9768 - val_loss: 0.0515 - val_accuracy: 0.9847\n",
            "Epoch 4/8\n",
            "1875/1875 [==============================] - 21s 11ms/step - loss: 0.0608 - accuracy: 0.9820 - val_loss: 0.0600 - val_accuracy: 0.9814\n",
            "Epoch 5/8\n",
            "1875/1875 [==============================] - 20s 11ms/step - loss: 0.0521 - accuracy: 0.9840 - val_loss: 0.0446 - val_accuracy: 0.9868\n",
            "Epoch 6/8\n",
            "1875/1875 [==============================] - 20s 11ms/step - loss: 0.0441 - accuracy: 0.9868 - val_loss: 0.0435 - val_accuracy: 0.9872\n",
            "Epoch 7/8\n",
            "1875/1875 [==============================] - 20s 10ms/step - loss: 0.0379 - accuracy: 0.9883 - val_loss: 0.0448 - val_accuracy: 0.9873\n",
            "Epoch 8/8\n",
            "1875/1875 [==============================] - 21s 11ms/step - loss: 0.0334 - accuracy: 0.9894 - val_loss: 0.0455 - val_accuracy: 0.9883\n"
          ]
        },
        {
          "output_type": "execute_result",
          "data": {
            "text/plain": [
              "<keras.src.callbacks.History at 0x7d0a9c5bf4c0>"
            ]
          },
          "metadata": {},
          "execution_count": 21
        }
      ]
    },
    {
      "cell_type": "code",
      "metadata": {
        "id": "acRxEwxuz7wQ",
        "colab": {
          "base_uri": "https://localhost:8080/"
        },
        "outputId": "d2c0e26b-c5b4-4c5c-aec9-60ab56633dbf"
      },
      "source": [
        "# Evaluation.\n",
        "scores = model.evaluate(x_test, y_test, verbose=0)\n",
        "print('Test loss:', scores[0]*100,\"%\")\n",
        "print('Test accuracy:', scores[1]*100,\"%\")"
      ],
      "execution_count": null,
      "outputs": [
        {
          "output_type": "stream",
          "name": "stdout",
          "text": [
            "Test loss: 4.545249789953232 %\n",
            "Test accuracy: 98.83000254631042 %\n"
          ]
        }
      ]
    },
    {
      "cell_type": "code",
      "metadata": {
        "id": "uSrmbiqg3cBs"
      },
      "source": [],
      "execution_count": null,
      "outputs": []
    }
  ]
}