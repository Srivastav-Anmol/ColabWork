{
  "nbformat": 4,
  "nbformat_minor": 0,
  "metadata": {
    "colab": {
      "provenance": [],
      "toc_visible": true,
      "gpuType": "T4"
    },
    "kernelspec": {
      "name": "python3",
      "display_name": "Python 3"
    },
    "language_info": {
      "name": "python"
    },
    "accelerator": "GPU"
  },
  "cells": [
    {
      "cell_type": "code",
      "execution_count": null,
      "metadata": {
        "id": "tjGaMSnXa-gk"
      },
      "outputs": [],
      "source": [
        "import pandas as pd\n",
        "import numpy as np\n",
        "\n",
        "import matplotlib.pyplot as plt\n",
        "from sklearn.feature_extraction.text import CountVectorizer\n",
        "import seaborn as sns"
      ]
    },
    {
      "cell_type": "markdown",
      "source": [
        "One Hot Representation"
      ],
      "metadata": {
        "id": "EO5d_NEXbbq1"
      }
    },
    {
      "cell_type": "code",
      "source": [
        "corpus = [\n",
        "    'Time flies like an arrow',\n",
        "    'Fruit flies like a banana'\n",
        "]\n",
        "corpus"
      ],
      "metadata": {
        "colab": {
          "base_uri": "https://localhost:8080/"
        },
        "id": "KqLqfL5BbFyl",
        "outputId": "58d838fe-1530-4ef8-cf41-06694a455d0c"
      },
      "execution_count": null,
      "outputs": [
        {
          "output_type": "execute_result",
          "data": {
            "text/plain": [
              "['Time flies like an arrow', 'Fruit flies like a banana']"
            ]
          },
          "metadata": {},
          "execution_count": 2
        }
      ]
    },
    {
      "cell_type": "code",
      "source": [
        "def get_vocab(corpus):\n",
        "    vocab = []\n",
        "    for sentence in corpus:\n",
        "        for word in sentence.split():\n",
        "            if word not in vocab:\n",
        "                vocab.append(word.lower())\n",
        "    return vocab\n",
        "\n",
        "vocab = get_vocab(corpus)\n",
        "vocab"
      ],
      "metadata": {
        "colab": {
          "base_uri": "https://localhost:8080/"
        },
        "id": "M6H3Yp3_bl-A",
        "outputId": "8606c199-bf34-4de2-f4e1-9c4071b1d489"
      },
      "execution_count": null,
      "outputs": [
        {
          "output_type": "execute_result",
          "data": {
            "text/plain": [
              "['time', 'flies', 'like', 'an', 'arrow', 'fruit', 'a', 'banana']"
            ]
          },
          "metadata": {},
          "execution_count": 3
        }
      ]
    },
    {
      "cell_type": "code",
      "source": [
        "onehot_vectorizer = CountVectorizer(lowercase=True, binary=True)\n",
        "\n",
        "onehot = onehot_vectorizer.fit_transform(corpus).toarray()\n",
        "\n",
        "onehot\n"
      ],
      "metadata": {
        "colab": {
          "base_uri": "https://localhost:8080/"
        },
        "id": "nubVGamTboN1",
        "outputId": "048fdfc9-5ff0-43cd-8da7-ff5e6585007c"
      },
      "execution_count": null,
      "outputs": [
        {
          "output_type": "execute_result",
          "data": {
            "text/plain": [
              "array([[1, 1, 0, 1, 0, 1, 1],\n",
              "       [0, 0, 1, 1, 1, 1, 0]])"
            ]
          },
          "metadata": {},
          "execution_count": 6
        }
      ]
    },
    {
      "cell_type": "markdown",
      "source": [
        "TF-IDF"
      ],
      "metadata": {
        "id": "Hjtaj2Ggbv08"
      }
    },
    {
      "cell_type": "code",
      "source": [
        "from sklearn.feature_extraction.text import TfidfVectorizer\n",
        "\n",
        "tfidfvectorizer = TfidfVectorizer()\n",
        "tfidfvector = tfidfvectorizer.fit_transform(corpus).toarray()\n",
        "\n",
        "tfidfvector"
      ],
      "metadata": {
        "colab": {
          "base_uri": "https://localhost:8080/"
        },
        "id": "BJOr_k7Rbwtt",
        "outputId": "6548bccd-40bc-4952-8fa7-d98ca3f6fae4"
      },
      "execution_count": null,
      "outputs": [
        {
          "output_type": "execute_result",
          "data": {
            "text/plain": [
              "array([[0.49922133, 0.49922133, 0.        , 0.35520009, 0.        ,\n",
              "        0.35520009, 0.49922133],\n",
              "       [0.        , 0.        , 0.57615236, 0.40993715, 0.57615236,\n",
              "        0.40993715, 0.        ]])"
            ]
          },
          "metadata": {},
          "execution_count": 7
        }
      ]
    },
    {
      "cell_type": "code",
      "source": [
        "#plt.figure(figsize=(15,5))\n",
        "sns.heatmap(onehot, annot=True, cbar=False, xticklabels=vocab, yticklabels=['Sentence 1','Sentence 2'])\n",
        "plt.show()"
      ],
      "metadata": {
        "colab": {
          "base_uri": "https://localhost:8080/",
          "height": 430
        },
        "id": "B4mys2XRbqc8",
        "outputId": "c9ddcde6-2cc8-447b-e492-6579167fa6be"
      },
      "execution_count": null,
      "outputs": [
        {
          "output_type": "display_data",
          "data": {
            "text/plain": [
              "<Figure size 640x480 with 1 Axes>"
            ],
            "image/png": "[encoded data removed]"
          },
          "metadata": {}
        }
      ]
    },
    {
      "cell_type": "markdown",
      "source": [
        "#Tokenization"
      ],
      "metadata": {
        "id": "yJC2R_T-b-8U"
      }
    },
    {
      "cell_type": "code",
      "source": [
        "sns.heatmap(tfidfvector, annot=True, cbar=False, xticklabels=vocab, yticklabels=['sentence 1','sentence 2'] )\n",
        "plt.show()"
      ],
      "metadata": {
        "colab": {
          "base_uri": "https://localhost:8080/",
          "height": 430
        },
        "id": "OROue-PNb20V",
        "outputId": "bf21dff1-b9d4-43da-f6fe-d61d7b6f298b"
      },
      "execution_count": null,
      "outputs": [
        {
          "output_type": "display_data",
          "data": {
            "text/plain": [
              "<Figure size 640x480 with 1 Axes>"
            ],
            "image/png": "[encoded data removed]"
          },
          "metadata": {}
        }
      ]
    },
    {
      "cell_type": "code",
      "source": [
        "#import spacy\n",
        "#nlp = spacy.load('en')"
      ],
      "metadata": {
        "id": "CXnBXUbAb71t"
      },
      "execution_count": null,
      "outputs": []
    },
    {
      "cell_type": "code",
      "source": [
        "import spacy\n",
        "nlp = spacy.load(\"en_core_web_sm\") # Load the small English model"
      ],
      "metadata": {
        "id": "cMke-Dp7cOnO"
      },
      "execution_count": null,
      "outputs": []
    },
    {
      "cell_type": "code",
      "source": [
        "text = \"Alok Singh, don't slap the Abhay.\""
      ],
      "metadata": {
        "id": "unYOs5vMcFlk"
      },
      "execution_count": null,
      "outputs": []
    },
    {
      "cell_type": "code",
      "source": [
        "for tokens in nlp(text.lower()):\n",
        "    print(tokens)"
      ],
      "metadata": {
        "colab": {
          "base_uri": "https://localhost:8080/"
        },
        "id": "SLYMDY6YcVdW",
        "outputId": "15e37ec2-f439-4d95-be4a-3329541f0be9"
      },
      "execution_count": null,
      "outputs": [
        {
          "output_type": "stream",
          "name": "stdout",
          "text": [
            "alok\n",
            "singh\n",
            ",\n",
            "do\n",
            "n't\n",
            "slap\n",
            "the\n",
            "abhay\n",
            ".\n"
          ]
        }
      ]
    },
    {
      "cell_type": "code",
      "source": [
        "from nltk.tokenize import TweetTokenizer"
      ],
      "metadata": {
        "id": "rtRbsic-cZO-"
      },
      "execution_count": null,
      "outputs": []
    },
    {
      "cell_type": "code",
      "source": [
        "tweet = u\"Morning is cold and night is warm but still walking barefoot on this concrete @midnight:)\"\n",
        "tokenizer = TweetTokenizer()"
      ],
      "metadata": {
        "id": "oYhBDIDmccCO"
      },
      "execution_count": null,
      "outputs": []
    },
    {
      "cell_type": "markdown",
      "source": [
        "Unigram, Bigram, Trigram, ... (N-Gram)"
      ],
      "metadata": {
        "id": "btT_TZOGchGM"
      }
    },
    {
      "cell_type": "code",
      "source": [
        "tweet_tokens = tokenizer.tokenize(tweet)\n",
        "tweet_tokens"
      ],
      "metadata": {
        "colab": {
          "base_uri": "https://localhost:8080/"
        },
        "id": "7Sf9Q6bbccqN",
        "outputId": "be7f4f69-63c1-4fe6-8861-2f4a78c2b400"
      },
      "execution_count": null,
      "outputs": [
        {
          "output_type": "execute_result",
          "data": {
            "text/plain": [
              "['Morning',\n",
              " 'is',\n",
              " 'cold',\n",
              " 'and',\n",
              " 'night',\n",
              " 'is',\n",
              " 'warm',\n",
              " 'but',\n",
              " 'still',\n",
              " 'walking',\n",
              " 'barefoot',\n",
              " 'on',\n",
              " 'this',\n",
              " 'concrete',\n",
              " '@midnight',\n",
              " ':)']"
            ]
          },
          "metadata": {},
          "execution_count": 17
        }
      ]
    },
    {
      "cell_type": "code",
      "source": [
        "def n_gram(text, n):\n",
        "    return [ text[i:i+n] for i in range(len(text)-n+1) ]"
      ],
      "metadata": {
        "id": "fNAGYUfHcekm"
      },
      "execution_count": null,
      "outputs": []
    },
    {
      "cell_type": "markdown",
      "source": [
        "Lemmas, Stems"
      ],
      "metadata": {
        "id": "QnGXVx3Ccpgs"
      }
    },
    {
      "cell_type": "code",
      "source": [
        "n_gram(tweet_tokens,4)"
      ],
      "metadata": {
        "colab": {
          "base_uri": "https://localhost:8080/"
        },
        "id": "kbjEkRvNclFs",
        "outputId": "680f8dd4-a045-4336-ec5d-ee9dc3b71145"
      },
      "execution_count": null,
      "outputs": [
        {
          "output_type": "execute_result",
          "data": {
            "text/plain": [
              "[['Morning', 'is', 'cold', 'and'],\n",
              " ['is', 'cold', 'and', 'night'],\n",
              " ['cold', 'and', 'night', 'is'],\n",
              " ['and', 'night', 'is', 'warm'],\n",
              " ['night', 'is', 'warm', 'but'],\n",
              " ['is', 'warm', 'but', 'still'],\n",
              " ['warm', 'but', 'still', 'walking'],\n",
              " ['but', 'still', 'walking', 'barefoot'],\n",
              " ['still', 'walking', 'barefoot', 'on'],\n",
              " ['walking', 'barefoot', 'on', 'this'],\n",
              " ['barefoot', 'on', 'this', 'concrete'],\n",
              " ['on', 'this', 'concrete', '@midnight'],\n",
              " ['this', 'concrete', '@midnight', ':)']]"
            ]
          },
          "metadata": {},
          "execution_count": 24
        }
      ]
    },
    {
      "cell_type": "code",
      "source": [
        "doc = nlp(u\"Let's go for a dinner tonight\")"
      ],
      "metadata": {
        "id": "4ys1gssrcnLe"
      },
      "execution_count": null,
      "outputs": []
    },
    {
      "cell_type": "code",
      "source": [
        "for token in doc:\n",
        "    print(f'{token} \\t --> {token.lemma_}')"
      ],
      "metadata": {
        "colab": {
          "base_uri": "https://localhost:8080/"
        },
        "id": "ZG9X8FmJcvAZ",
        "outputId": "e357bbdf-3878-42b4-c067-2b58526ab23a"
      },
      "execution_count": null,
      "outputs": [
        {
          "output_type": "stream",
          "name": "stdout",
          "text": [
            "Let \t --> let\n",
            "'s \t --> us\n",
            "go \t --> go\n",
            "for \t --> for\n",
            "a \t --> a\n",
            "dinner \t --> dinner\n",
            "tonight \t --> tonight\n"
          ]
        }
      ]
    },
    {
      "cell_type": "markdown",
      "source": [
        "POS Tagging"
      ],
      "metadata": {
        "id": "hm8kDslZcz2M"
      }
    },
    {
      "cell_type": "code",
      "source": [
        "doc = nlp(\"I'm hungry\")"
      ],
      "metadata": {
        "id": "sSCqTgGRcxXO"
      },
      "execution_count": null,
      "outputs": []
    },
    {
      "cell_type": "code",
      "source": [
        "for token in doc:\n",
        "    print(f'{token} \\t {token.pos_}')"
      ],
      "metadata": {
        "colab": {
          "base_uri": "https://localhost:8080/"
        },
        "id": "zPn8Xxd0c6pk",
        "outputId": "5076f977-ebd1-41ed-fa7c-26516736b2ad"
      },
      "execution_count": null,
      "outputs": [
        {
          "output_type": "stream",
          "name": "stdout",
          "text": [
            "I \t PRON\n",
            "'m \t AUX\n",
            "hungry \t ADJ\n"
          ]
        }
      ]
    },
    {
      "cell_type": "markdown",
      "source": [
        "Chunking and NER"
      ],
      "metadata": {
        "id": "bvi1YjJqc-r0"
      }
    },
    {
      "cell_type": "code",
      "source": [
        "doc = nlp(\"Alok is Starving\")"
      ],
      "metadata": {
        "id": "SwyASDoudC-u"
      },
      "execution_count": null,
      "outputs": []
    },
    {
      "cell_type": "code",
      "source": [
        "for chunk in doc.noun_chunks:\n",
        "    print(f'{chunk} : {chunk.label_}')"
      ],
      "metadata": {
        "colab": {
          "base_uri": "https://localhost:8080/"
        },
        "id": "3ca_z9fAdFa9",
        "outputId": "1c129619-2f2b-4e4a-a37c-5bafbdb17095"
      },
      "execution_count": null,
      "outputs": [
        {
          "output_type": "stream",
          "name": "stdout",
          "text": [
            "Alok : NP\n"
          ]
        }
      ]
    },
    {
      "cell_type": "code",
      "source": [
        "from spacy import displacy\n",
        "\n",
        "doc = nlp(\"Alok was born in India(Thakur Dynasty) and studying in NIET.\")"
      ],
      "metadata": {
        "id": "AxBsKovPdHWc"
      },
      "execution_count": null,
      "outputs": []
    },
    {
      "cell_type": "code",
      "source": [
        "displacy.render(doc, style='ent',jupyter=True)"
      ],
      "metadata": {
        "colab": {
          "base_uri": "https://localhost:8080/",
          "height": 52
        },
        "id": "9I1QHkugdRpc",
        "outputId": "8930bc8d-bef8-4dd9-ac63-01b136c4bb4f"
      },
      "execution_count": null,
      "outputs": [
        {
          "output_type": "display_data",
          "data": {
            "text/plain": [
              "<IPython.core.display.HTML object>"
            ],
            "text/html": [
              "<span class=\"tex2jax_ignore\"><div class=\"entities\" style=\"line-height: 2.5; direction: ltr\">\n",
              "<mark class=\"entity\" style=\"background: #aa9cfc; padding: 0.45em 0.6em; margin: 0 0.25em; line-height: 1; border-radius: 0.35em;\">\n",
              "    Alok\n",
              "    <span style=\"font-size: 0.8em; font-weight: bold; line-height: 1; border-radius: 0.35em; vertical-align: middle; margin-left: 0.5rem\">PERSON</span>\n",
              "</mark>\n",
              " was born in \n",
              "<mark class=\"entity\" style=\"background: #7aecec; padding: 0.45em 0.6em; margin: 0 0.25em; line-height: 1; border-radius: 0.35em;\">\n",
              "    India(Thakur Dynasty\n",
              "    <span style=\"font-size: 0.8em; font-weight: bold; line-height: 1; border-radius: 0.35em; vertical-align: middle; margin-left: 0.5rem\">ORG</span>\n",
              "</mark>\n",
              ") and studying in \n",
              "<mark class=\"entity\" style=\"background: #7aecec; padding: 0.45em 0.6em; margin: 0 0.25em; line-height: 1; border-radius: 0.35em;\">\n",
              "    NIET\n",
              "    <span style=\"font-size: 0.8em; font-weight: bold; line-height: 1; border-radius: 0.35em; vertical-align: middle; margin-left: 0.5rem\">ORG</span>\n",
              "</mark>\n",
              ".</div></span>"
            ]
          },
          "metadata": {}
        }
      ]
    },
    {
      "cell_type": "markdown",
      "source": [
        "Structure of the sentences"
      ],
      "metadata": {
        "id": "zt-JP9MwdcZc"
      }
    },
    {
      "cell_type": "code",
      "source": [
        "doc = nlp(\"Alok \")"
      ],
      "metadata": {
        "id": "TkD_wvLcdVV_"
      },
      "execution_count": null,
      "outputs": []
    },
    {
      "cell_type": "code",
      "source": [
        "displacy.render(doc, style='dep', jupyter=True)"
      ],
      "metadata": {
        "colab": {
          "base_uri": "https://localhost:8080/",
          "height": 421
        },
        "id": "nLZ__274dZne",
        "outputId": "6a148f56-3705-4f61-f234-43860fd9d7cb"
      },
      "execution_count": null,
      "outputs": [
        {
          "output_type": "display_data",
          "data": {
            "text/plain": [
              "<IPython.core.display.HTML object>"
            ],
            "text/html": [
              "<span class=\"tex2jax_ignore\"><svg xmlns=\"http://www.w3.org/2000/svg\" xmlns:xlink=\"http://www.w3.org/1999/xlink\" xml:lang=\"en\" id=\"53cd259fe49341c6af4edf3f459c50cb-0\" class=\"displacy\" width=\"925\" height=\"399.5\" direction=\"ltr\" style=\"max-width: none; height: 399.5px; color: #000000; background: #ffffff; font-family: Arial; direction: ltr\">\n",
              "<text class=\"displacy-token\" fill=\"currentColor\" text-anchor=\"middle\" y=\"309.5\">\n",
              "    <tspan class=\"displacy-word\" fill=\"currentColor\" x=\"50\">John</tspan>\n",
              "    <tspan class=\"displacy-tag\" dy=\"2em\" fill=\"currentColor\" x=\"50\">PROPN</tspan>\n",
              "</text>\n",
              "\n",
              "<text class=\"displacy-token\" fill=\"currentColor\" text-anchor=\"middle\" y=\"309.5\">\n",
              "    <tspan class=\"displacy-word\" fill=\"currentColor\" x=\"225\">is</tspan>\n",
              "    <tspan class=\"displacy-tag\" dy=\"2em\" fill=\"currentColor\" x=\"225\">AUX</tspan>\n",
              "</text>\n",
              "\n",
              "<text class=\"displacy-token\" fill=\"currentColor\" text-anchor=\"middle\" y=\"309.5\">\n",
              "    <tspan class=\"displacy-word\" fill=\"currentColor\" x=\"400\">a</tspan>\n",
              "    <tspan class=\"displacy-tag\" dy=\"2em\" fill=\"currentColor\" x=\"400\">DET</tspan>\n",
              "</text>\n",
              "\n",
              "<text class=\"displacy-token\" fill=\"currentColor\" text-anchor=\"middle\" y=\"309.5\">\n",
              "    <tspan class=\"displacy-word\" fill=\"currentColor\" x=\"575\">good</tspan>\n",
              "    <tspan class=\"displacy-tag\" dy=\"2em\" fill=\"currentColor\" x=\"575\">ADJ</tspan>\n",
              "</text>\n",
              "\n",
              "<text class=\"displacy-token\" fill=\"currentColor\" text-anchor=\"middle\" y=\"309.5\">\n",
              "    <tspan class=\"displacy-word\" fill=\"currentColor\" x=\"750\">person</tspan>\n",
              "    <tspan class=\"displacy-tag\" dy=\"2em\" fill=\"currentColor\" x=\"750\">NOUN</tspan>\n",
              "</text>\n",
              "\n",
              "<g class=\"displacy-arrow\">\n",
              "    <path class=\"displacy-arc\" id=\"arrow-53cd259fe49341c6af4edf3f459c50cb-0-0\" stroke-width=\"2px\" d=\"M70,264.5 C70,177.0 215.0,177.0 215.0,264.5\" fill=\"none\" stroke=\"currentColor\"/>\n",
              "    <text dy=\"1.25em\" style=\"font-size: 0.8em; letter-spacing: 1px\">\n",
              "        <textPath xlink:href=\"#arrow-53cd259fe49341c6af4edf3f459c50cb-0-0\" class=\"displacy-label\" startOffset=\"50%\" side=\"left\" fill=\"currentColor\" text-anchor=\"middle\">nsubj</textPath>\n",
              "    </text>\n",
              "    <path class=\"displacy-arrowhead\" d=\"M70,266.5 L62,254.5 78,254.5\" fill=\"currentColor\"/>\n",
              "</g>\n",
              "\n",
              "<g class=\"displacy-arrow\">\n",
              "    <path class=\"displacy-arc\" id=\"arrow-53cd259fe49341c6af4edf3f459c50cb-0-1\" stroke-width=\"2px\" d=\"M420,264.5 C420,89.5 745.0,89.5 745.0,264.5\" fill=\"none\" stroke=\"currentColor\"/>\n",
              "    <text dy=\"1.25em\" style=\"font-size: 0.8em; letter-spacing: 1px\">\n",
              "        <textPath xlink:href=\"#arrow-53cd259fe49341c6af4edf3f459c50cb-0-1\" class=\"displacy-label\" startOffset=\"50%\" side=\"left\" fill=\"currentColor\" text-anchor=\"middle\">det</textPath>\n",
              "    </text>\n",
              "    <path class=\"displacy-arrowhead\" d=\"M420,266.5 L412,254.5 428,254.5\" fill=\"currentColor\"/>\n",
              "</g>\n",
              "\n",
              "<g class=\"displacy-arrow\">\n",
              "    <path class=\"displacy-arc\" id=\"arrow-53cd259fe49341c6af4edf3f459c50cb-0-2\" stroke-width=\"2px\" d=\"M595,264.5 C595,177.0 740.0,177.0 740.0,264.5\" fill=\"none\" stroke=\"currentColor\"/>\n",
              "    <text dy=\"1.25em\" style=\"font-size: 0.8em; letter-spacing: 1px\">\n",
              "        <textPath xlink:href=\"#arrow-53cd259fe49341c6af4edf3f459c50cb-0-2\" class=\"displacy-label\" startOffset=\"50%\" side=\"left\" fill=\"currentColor\" text-anchor=\"middle\">amod</textPath>\n",
              "    </text>\n",
              "    <path class=\"displacy-arrowhead\" d=\"M595,266.5 L587,254.5 603,254.5\" fill=\"currentColor\"/>\n",
              "</g>\n",
              "\n",
              "<g class=\"displacy-arrow\">\n",
              "    <path class=\"displacy-arc\" id=\"arrow-53cd259fe49341c6af4edf3f459c50cb-0-3\" stroke-width=\"2px\" d=\"M245,264.5 C245,2.0 750.0,2.0 750.0,264.5\" fill=\"none\" stroke=\"currentColor\"/>\n",
              "    <text dy=\"1.25em\" style=\"font-size: 0.8em; letter-spacing: 1px\">\n",
              "        <textPath xlink:href=\"#arrow-53cd259fe49341c6af4edf3f459c50cb-0-3\" class=\"displacy-label\" startOffset=\"50%\" side=\"left\" fill=\"currentColor\" text-anchor=\"middle\">attr</textPath>\n",
              "    </text>\n",
              "    <path class=\"displacy-arrowhead\" d=\"M750.0,266.5 L758.0,254.5 742.0,254.5\" fill=\"currentColor\"/>\n",
              "</g>\n",
              "</svg></span>"
            ]
          },
          "metadata": {}
        }
      ]
    },
    {
      "cell_type": "code",
      "source": [],
      "metadata": {
        "id": "QSuAFbGFdiKn"
      },
      "execution_count": null,
      "outputs": []
    }
  ]
}